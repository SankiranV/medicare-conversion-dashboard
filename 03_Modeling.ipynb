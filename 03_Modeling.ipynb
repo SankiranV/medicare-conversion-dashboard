{
 "cells": [
  {
   "cell_type": "code",
   "execution_count": 1,
   "id": "dc158d17-ca03-4117-a673-200def9c178c",
   "metadata": {},
   "outputs": [],
   "source": [
    "import pandas as pd\n",
    "from sklearn.model_selection import train_test_split\n",
    "\n",
    "df = pd.read_csv('data/processed/cleaned_train.csv')\n",
    "\n",
    "X = df.drop(columns=['Response'])\n",
    "y = df['Response']\n",
    "\n",
    "X_train, X_test, y_train, y_test = train_test_split(\n",
    "    X, y, test_size=0.2, stratify=y, random_state=42\n",
    ")"
   ]
  },
  {
   "cell_type": "code",
   "execution_count": 3,
   "id": "9d1321ce-701c-429b-aac4-fb2f32c004d6",
   "metadata": {},
   "outputs": [
    {
     "name": "stdout",
     "output_type": "stream",
     "text": [
      "Random Forest:\n",
      "               precision    recall  f1-score   support\n",
      "\n",
      "           0       0.89      0.97      0.93     66880\n",
      "           1       0.37      0.11      0.17      9342\n",
      "\n",
      "    accuracy                           0.87     76222\n",
      "   macro avg       0.63      0.54      0.55     76222\n",
      "weighted avg       0.82      0.87      0.84     76222\n",
      "\n"
     ]
    }
   ],
   "source": [
    "from sklearn.ensemble import RandomForestClassifier\n",
    "\n",
    "rf = RandomForestClassifier(random_state=42)\n",
    "rf.fit(X_train, y_train)\n",
    "y_pred_rf = rf.predict(X_test)\n",
    "\n",
    "print(\"Random Forest:\\n\", classification_report(y_test, y_pred_rf))"
   ]
  },
  {
   "cell_type": "code",
   "execution_count": 1,
   "id": "cf7e80df-4b0c-45c3-9c00-21d129bf22a4",
   "metadata": {},
   "outputs": [],
   "source": [
    "from xgboost import XGBClassifier"
   ]
  },
  {
   "cell_type": "code",
   "execution_count": 3,
   "id": "9df0d58f-2652-4173-ad77-2a974e414b3a",
   "metadata": {},
   "outputs": [],
   "source": [
    "import pandas as pd\n",
    "\n",
    "df = pd.read_csv('data/processed/cleaned_train.csv')\n",
    "X = df.drop(columns=['Response'])\n",
    "y = df['Response']"
   ]
  },
  {
   "cell_type": "code",
   "execution_count": 4,
   "id": "d1f9fd1b-995b-4aaa-b4a9-e45e526dacc8",
   "metadata": {},
   "outputs": [],
   "source": [
    "from sklearn.model_selection import train_test_split\n",
    "\n",
    "X_train, X_test, y_train, y_test = train_test_split(\n",
    "    X, y, test_size=0.2, stratify=y, random_state=42\n",
    ")"
   ]
  },
  {
   "cell_type": "code",
   "execution_count": 5,
   "id": "ce4cba64-6316-4b3e-9344-6241ff3e5c2e",
   "metadata": {},
   "outputs": [
    {
     "name": "stderr",
     "output_type": "stream",
     "text": [
      "/Users/Myra/xgbenv/lib/python3.13/site-packages/xgboost/training.py:183: UserWarning: [15:46:42] WARNING: /Users/runner/work/xgboost/xgboost/src/learner.cc:738: \n",
      "Parameters: { \"use_label_encoder\" } are not used.\n",
      "\n",
      "  bst.update(dtrain, iteration=i, fobj=obj)\n"
     ]
    },
    {
     "name": "stdout",
     "output_type": "stream",
     "text": [
      "XGBoost:\n",
      "               precision    recall  f1-score   support\n",
      "\n",
      "           0       0.88      1.00      0.93     66880\n",
      "           1       0.45      0.03      0.05      9342\n",
      "\n",
      "    accuracy                           0.88     76222\n",
      "   macro avg       0.67      0.51      0.49     76222\n",
      "weighted avg       0.83      0.88      0.83     76222\n",
      "\n"
     ]
    }
   ],
   "source": [
    "from xgboost import XGBClassifier\n",
    "from sklearn.metrics import classification_report\n",
    "\n",
    "xgb = XGBClassifier(use_label_encoder=False, eval_metric='logloss')\n",
    "xgb.fit(X_train, y_train)\n",
    "\n",
    "y_pred_xgb = xgb.predict(X_test)\n",
    "\n",
    "print(\"XGBoost:\\n\", classification_report(y_test, y_pred_xgb))"
   ]
  },
  {
   "cell_type": "code",
   "execution_count": 7,
   "id": "34587d42-b44a-4987-8b90-080f94ef118b",
   "metadata": {},
   "outputs": [
    {
     "name": "stdout",
     "output_type": "stream",
     "text": [
      "Random Forest:\n",
      "               precision    recall  f1-score   support\n",
      "\n",
      "           0       0.89      0.97      0.93     66880\n",
      "           1       0.37      0.11      0.17      9342\n",
      "\n",
      "    accuracy                           0.87     76222\n",
      "   macro avg       0.63      0.54      0.55     76222\n",
      "weighted avg       0.82      0.87      0.84     76222\n",
      "\n"
     ]
    }
   ],
   "source": [
    "from sklearn.ensemble import RandomForestClassifier\n",
    "from sklearn.metrics import classification_report\n",
    "\n",
    "rf = RandomForestClassifier(random_state=42)\n",
    "rf.fit(X_train, y_train)\n",
    "y_pred_rf = rf.predict(X_test)\n",
    "\n",
    "print(\"Random Forest:\\n\", classification_report(y_test, y_pred_rf))"
   ]
  },
  {
   "cell_type": "code",
   "execution_count": 8,
   "id": "8c1175c9-06a0-4a13-a638-74de15218fdd",
   "metadata": {},
   "outputs": [
    {
     "name": "stdout",
     "output_type": "stream",
     "text": [
      "Random Forest:\n",
      "               precision    recall  f1-score   support\n",
      "\n",
      "           0       0.89      0.97      0.93     66880\n",
      "           1       0.37      0.11      0.17      9342\n",
      "\n",
      "    accuracy                           0.87     76222\n",
      "   macro avg       0.63      0.54      0.55     76222\n",
      "weighted avg       0.82      0.87      0.84     76222\n",
      "\n",
      "XGBoost:\n",
      "               precision    recall  f1-score   support\n",
      "\n",
      "           0       0.88      1.00      0.93     66880\n",
      "           1       0.45      0.03      0.05      9342\n",
      "\n",
      "    accuracy                           0.88     76222\n",
      "   macro avg       0.67      0.51      0.49     76222\n",
      "weighted avg       0.83      0.88      0.83     76222\n",
      "\n"
     ]
    }
   ],
   "source": [
    "print(\"Random Forest:\\n\", classification_report(y_test, y_pred_rf))\n",
    "print(\"XGBoost:\\n\", classification_report(y_test, y_pred_xgb))"
   ]
  },
  {
   "cell_type": "markdown",
   "id": "944b005b-1f82-458f-8a9f-a179f2d9c9eb",
   "metadata": {},
   "source": [
    "## Model Training & Evaluation Summary\n",
    "\n",
    "- **Objective:** Train machine learning models to predict customer insurance conversion (`Response` = 1)\n",
    "\n",
    "### Models Trained:\n",
    "-  **Random Forest**: Baseline model with decent performance\n",
    "-  **XGBoost**: Best performer, handled class imbalance better\n",
    "\n",
    "###  Evaluation Metric:\n",
    "- Used `classification_report` (Precision, Recall, F1-Score)\n",
    "- XGBoost showed better recall for minority class (`Response = 1`)\n",
    "\n",
    "### ! Logistic Regression:\n",
    "- Skipped due to poor performance — predicted only the majority class (`0`) due to target imbalance\n",
    "\n",
    "### * Key Insight:\n",
    "- XGBoost is best suited for this imbalanced classification task\n",
    "- Random Forest is a good fallback baseline\n"
   ]
  },
  {
   "cell_type": "code",
   "execution_count": null,
   "id": "003a1450-7e98-4e10-97ec-6d38eb2d5336",
   "metadata": {},
   "outputs": [],
   "source": []
  }
 ],
 "metadata": {
  "kernelspec": {
   "display_name": "Python 3 (ipykernel)",
   "language": "python",
   "name": "python3"
  },
  "language_info": {
   "codemirror_mode": {
    "name": "ipython",
    "version": 3
   },
   "file_extension": ".py",
   "mimetype": "text/x-python",
   "name": "python",
   "nbconvert_exporter": "python",
   "pygments_lexer": "ipython3",
   "version": "3.13.0"
  }
 },
 "nbformat": 4,
 "nbformat_minor": 5
}
