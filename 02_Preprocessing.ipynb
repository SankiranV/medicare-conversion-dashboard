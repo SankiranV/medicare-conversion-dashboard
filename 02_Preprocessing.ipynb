{
 "cells": [
  {
   "cell_type": "code",
   "execution_count": 1,
   "id": "867b5ea7-6b0c-4c2c-aecc-d756d866db6a",
   "metadata": {},
   "outputs": [],
   "source": [
    "import pandas as pd\n",
    "import os\n",
    "\n",
    "# Load data again (optional if already in memory)\n",
    "df = pd.read_csv('data/train.csv')\n",
    "\n",
    "# Drop ID column\n",
    "df.drop(columns=['id'], inplace=True)\n",
    "\n",
    "# Encode categorical variables\n",
    "df['Gender'] = df['Gender'].map({'Male': 1, 'Female': 0})\n",
    "df['Vehicle_Damage'] = df['Vehicle_Damage'].map({'Yes': 1, 'No': 0})\n",
    "df['Vehicle_Age'] = df['Vehicle_Age'].map({\n",
    "    '> 2 Years': 2,\n",
    "    '1-2 Year': 1,\n",
    "    '< 1 Year': 0\n",
    "})\n",
    "\n",
    "# Optional: Create new feature\n",
    "df['Premium_per_Day'] = df['Annual_Premium'] / (df['Vintage'] + 1)\n",
    "\n",
    "# Create processed folder\n",
    "os.makedirs('data/processed', exist_ok=True)\n",
    "\n",
    "# Save cleaned dataset\n",
    "df.to_csv('data/processed/cleaned_train.csv', index=False)"
   ]
  },
  {
   "cell_type": "code",
   "execution_count": 2,
   "id": "3eb6716a-453c-4628-be79-10319ce815e2",
   "metadata": {},
   "outputs": [],
   "source": [
    "os.makedirs('data/processed', exist_ok=True)"
   ]
  },
  {
   "cell_type": "code",
   "execution_count": 3,
   "id": "7b48bc93-721a-4399-ad71-a2e238e00c84",
   "metadata": {},
   "outputs": [],
   "source": [
    "df.to_csv('data/processed/cleaned_train.csv', index=False)"
   ]
  },
  {
   "cell_type": "markdown",
   "id": "2d80912c-d91e-4430-85c5-c9dd135d478d",
   "metadata": {},
   "source": [
    "## Data Cleaning & Preprocessing Summary\n",
    "\n",
    "- Dropped unnecessary column: `id`\n",
    "- Label encoded categorical variables:\n",
    "  - `Gender` → Male: 1, Female: 0\n",
    "  - `Vehicle_Damage` → Yes: 1, No: 0\n",
    "  - `Vehicle_Age` → '> 2 Years': 2, '1-2 Year': 1, '< 1 Year': 0\n",
    "- Created new feature: `Premium_per_Day = Annual_Premium / (Vintage + 1)`\n",
    "- Saved cleaned dataset to: `data/processed/cleaned_train.csv`"
   ]
  }
 ],
 "metadata": {
  "kernelspec": {
   "display_name": "Python 3 (ipykernel)",
   "language": "python",
   "name": "python3"
  },
  "language_info": {
   "codemirror_mode": {
    "name": "ipython",
    "version": 3
   },
   "file_extension": ".py",
   "mimetype": "text/x-python",
   "name": "python",
   "nbconvert_exporter": "python",
   "pygments_lexer": "ipython3",
   "version": "3.11.7"
  }
 },
 "nbformat": 4,
 "nbformat_minor": 5
}
