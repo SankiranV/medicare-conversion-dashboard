{
 "cells": [
  {
   "cell_type": "code",
   "execution_count": 3,
   "id": "7b64239c-344d-4965-9215-b8c9a0ab7952",
   "metadata": {},
   "outputs": [],
   "source": [
    "import pandas as pd\n",
    "\n",
    "df = pd.read_csv('data/processed/cleaned_train.csv')\n",
    "X = df.drop(columns=['Response'])\n",
    "y = df['Response']"
   ]
  },
  {
   "cell_type": "code",
   "execution_count": 4,
   "id": "354fc5c7-7034-4626-bbf6-2a9296dc36ab",
   "metadata": {},
   "outputs": [],
   "source": [
    "from sklearn.model_selection import train_test_split\n",
    "\n",
    "X_train, X_test, y_train, y_test = train_test_split(\n",
    "    X, y, test_size=0.2, stratify=y, random_state=42\n",
    ")"
   ]
  },
  {
   "cell_type": "code",
   "execution_count": 5,
   "id": "8cbb774d-1f44-42c7-971b-50818fbaf587",
   "metadata": {},
   "outputs": [
    {
     "name": "stdout",
     "output_type": "stream",
     "text": [
      "Best RF params: {'max_depth': 10, 'min_samples_split': 5, 'n_estimators': 200}\n"
     ]
    },
    {
     "name": "stderr",
     "output_type": "stream",
     "text": [
      "/Users/Myra/xgbenv/lib/python3.13/site-packages/sklearn/metrics/_classification.py:1706: UndefinedMetricWarning: Precision is ill-defined and being set to 0.0 in labels with no predicted samples. Use `zero_division` parameter to control this behavior.\n",
      "  _warn_prf(average, modifier, f\"{metric.capitalize()} is\", result.shape[0])\n",
      "/Users/Myra/xgbenv/lib/python3.13/site-packages/sklearn/metrics/_classification.py:1706: UndefinedMetricWarning: Precision is ill-defined and being set to 0.0 in labels with no predicted samples. Use `zero_division` parameter to control this behavior.\n",
      "  _warn_prf(average, modifier, f\"{metric.capitalize()} is\", result.shape[0])\n",
      "/Users/Myra/xgbenv/lib/python3.13/site-packages/sklearn/metrics/_classification.py:1706: UndefinedMetricWarning: Precision is ill-defined and being set to 0.0 in labels with no predicted samples. Use `zero_division` parameter to control this behavior.\n",
      "  _warn_prf(average, modifier, f\"{metric.capitalize()} is\", result.shape[0])\n"
     ]
    },
    {
     "name": "stdout",
     "output_type": "stream",
     "text": [
      "Random Forest:\n",
      "               precision    recall  f1-score   support\n",
      "\n",
      "           0       0.88      1.00      0.93     66880\n",
      "           1       0.00      0.00      0.00      9342\n",
      "\n",
      "    accuracy                           0.88     76222\n",
      "   macro avg       0.44      0.50      0.47     76222\n",
      "weighted avg       0.77      0.88      0.82     76222\n",
      "\n",
      "ROC AUC (RF): 0.8549977971902883\n"
     ]
    }
   ],
   "source": [
    "from sklearn.ensemble import RandomForestClassifier\n",
    "from sklearn.model_selection import GridSearchCV\n",
    "from sklearn.metrics import classification_report, roc_auc_score\n",
    "\n",
    "param_grid_rf = {\n",
    "    'n_estimators': [100, 200],\n",
    "    'max_depth': [None, 10, 20],\n",
    "    'min_samples_split': [2, 5]\n",
    "}\n",
    "\n",
    "grid_rf = GridSearchCV(\n",
    "    RandomForestClassifier(random_state=42),\n",
    "    param_grid_rf,\n",
    "    scoring='roc_auc',\n",
    "    cv=3,\n",
    "    n_jobs=-1\n",
    ")\n",
    "\n",
    "grid_rf.fit(X_train, y_train)\n",
    "\n",
    "print(\"Best RF params:\", grid_rf.best_params_)\n",
    "y_pred_rf = grid_rf.predict(X_test)\n",
    "print(\"Random Forest:\\n\", classification_report(y_test, y_pred_rf))\n",
    "print(\"ROC AUC (RF):\", roc_auc_score(y_test, grid_rf.predict_proba(X_test)[:, 1]))"
   ]
  },
  {
   "cell_type": "code",
   "execution_count": 7,
   "id": "1b23e4e8-f9bb-4a39-9621-8ebbb739ae1d",
   "metadata": {},
   "outputs": [
    {
     "name": "stdout",
     "output_type": "stream",
     "text": [
      "Best XGB params: {'learning_rate': 0.1, 'max_depth': 6, 'n_estimators': 100}\n",
      "XGBoost:\n",
      "               precision    recall  f1-score   support\n",
      "\n",
      "           0       0.88      1.00      0.93     66880\n",
      "           1       0.51      0.00      0.01      9342\n",
      "\n",
      "    accuracy                           0.88     76222\n",
      "   macro avg       0.69      0.50      0.47     76222\n",
      "weighted avg       0.83      0.88      0.82     76222\n",
      "\n",
      "ROC AUC (XGB): 0.8578707424936414\n"
     ]
    }
   ],
   "source": [
    "from xgboost import XGBClassifier\n",
    "from sklearn.model_selection import GridSearchCV\n",
    "from sklearn.metrics import classification_report, roc_auc_score\n",
    "\n",
    "param_grid_xgb = {\n",
    "    'n_estimators': [100, 200],\n",
    "    'max_depth': [3, 6],\n",
    "    'learning_rate': [0.01, 0.1]\n",
    "}\n",
    "\n",
    "grid_xgb = GridSearchCV(\n",
    "    XGBClassifier(eval_metric='logloss'),\n",
    "    param_grid_xgb,\n",
    "    scoring='roc_auc',\n",
    "    cv=3,\n",
    "    n_jobs=-1\n",
    ")\n",
    "\n",
    "grid_xgb.fit(X_train, y_train)\n",
    "\n",
    "print(\"Best XGB params:\", grid_xgb.best_params_)\n",
    "\n",
    "y_pred_xgb = grid_xgb.predict(X_test)\n",
    "\n",
    "print(\"XGBoost:\\n\", classification_report(y_test, y_pred_xgb))\n",
    "print(\"ROC AUC (XGB):\", roc_auc_score(y_test, grid_xgb.predict_proba(X_test)[:, 1]))"
   ]
  },
  {
   "cell_type": "code",
   "execution_count": 8,
   "id": "472474de-cfca-4e80-94a5-4b4b54c40028",
   "metadata": {},
   "outputs": [
    {
     "name": "stdout",
     "output_type": "stream",
     "text": [
      "Best XGB params: {'learning_rate': 0.1, 'max_depth': 6, 'n_estimators': 100}\n",
      "XGBoost:\n",
      "               precision    recall  f1-score   support\n",
      "\n",
      "           0       0.88      1.00      0.93     66880\n",
      "           1       0.51      0.00      0.01      9342\n",
      "\n",
      "    accuracy                           0.88     76222\n",
      "   macro avg       0.69      0.50      0.47     76222\n",
      "weighted avg       0.83      0.88      0.82     76222\n",
      "\n",
      "ROC AUC (XGB): 0.8578707424936414\n"
     ]
    }
   ],
   "source": [
    "print(\"Best XGB params:\", grid_xgb.best_params_)\n",
    "print(\"XGBoost:\\n\", classification_report(y_test, y_pred_xgb))\n",
    "print(\"ROC AUC (XGB):\", roc_auc_score(y_test, grid_xgb.predict_proba(X_test)[:, 1]))"
   ]
  },
  {
   "cell_type": "code",
   "execution_count": 10,
   "id": "8b2980ef-883d-43f4-90b1-2db0265c2ce1",
   "metadata": {},
   "outputs": [
    {
     "name": "stdout",
     "output_type": "stream",
     "text": [
      "scale_pos_weight = 7.16\n"
     ]
    }
   ],
   "source": [
    "weight = (y == 0).sum() / (y == 1).sum()\n",
    "print(\"scale_pos_weight =\", round(weight, 2))"
   ]
  },
  {
   "cell_type": "code",
   "execution_count": 11,
   "id": "70d274cf-a639-42a1-835e-7ae04903e0c5",
   "metadata": {},
   "outputs": [
    {
     "name": "stdout",
     "output_type": "stream",
     "text": [
      "XGBoost (Balanced):\n",
      "               precision    recall  f1-score   support\n",
      "\n",
      "           0       0.98      0.68      0.80     66880\n",
      "           1       0.29      0.92      0.44      9342\n",
      "\n",
      "    accuracy                           0.71     76222\n",
      "   macro avg       0.63      0.80      0.62     76222\n",
      "weighted avg       0.90      0.71      0.76     76222\n",
      "\n",
      "ROC AUC (Balanced): 0.8575826414561393\n"
     ]
    }
   ],
   "source": [
    "xgb = XGBClassifier(\n",
    "    eval_metric='logloss',\n",
    "    scale_pos_weight=weight,\n",
    "    learning_rate=0.1,\n",
    "    max_depth=6,\n",
    "    n_estimators=100\n",
    ")\n",
    "\n",
    "xgb.fit(X_train, y_train)\n",
    "y_pred_xgb = xgb.predict(X_test)\n",
    "\n",
    "from sklearn.metrics import classification_report, roc_auc_score\n",
    "print(\"XGBoost (Balanced):\\n\", classification_report(y_test, y_pred_xgb))\n",
    "print(\"ROC AUC (Balanced):\", roc_auc_score(y_test, xgb.predict_proba(X_test)[:, 1]))"
   ]
  },
  {
   "cell_type": "code",
   "execution_count": 12,
   "id": "0e0bad1a-8aa6-40ce-ac9b-cc6849348725",
   "metadata": {},
   "outputs": [
    {
     "data": {
      "image/png": "[encoded data removed]",
      "text/plain": [
       "<Figure size 600x400 with 1 Axes>"
      ]
     },
     "metadata": {},
     "output_type": "display_data"
    }
   ],
   "source": [
    "from sklearn.metrics import roc_curve\n",
    "import matplotlib.pyplot as plt\n",
    "\n",
    "y_proba = xgb.predict_proba(X_test)[:, 1]\n",
    "fpr, tpr, _ = roc_curve(y_test, y_proba)\n",
    "\n",
    "plt.figure(figsize=(6, 4))\n",
    "plt.plot(fpr, tpr, label='XGBoost (AUC = {:.2f})'.format(roc_auc_score(y_test, y_proba)))\n",
    "plt.plot([0, 1], [0, 1], 'k--')\n",
    "plt.xlabel('False Positive Rate')\n",
    "plt.ylabel('True Positive Rate')\n",
    "plt.title('ROC Curve - XGBoost')\n",
    "plt.legend()\n",
    "plt.grid(True)\n",
    "plt.show()"
   ]
  },
  {
   "cell_type": "markdown",
   "id": "47dd5f4d-5941-4a8f-b9d8-1e17a5b25e12",
   "metadata": {},
   "source": [
    "## Advanced Models: Tuning + Class Balancing\n",
    "\n",
    "### Objective:\n",
    "Improve model performance using hyperparameter tuning and class imbalance correction.\n",
    "\n",
    "---\n",
    "\n",
    "### Models Tuned:\n",
    "- 🔧 **Random Forest** with GridSearchCV\n",
    "- 🔧 **XGBoost** with GridSearchCV + `scale_pos_weight`\n",
    "\n",
    "---\n",
    "\n",
    "### Best XGBoost Results:\n",
    "- **Best params:** `learning_rate=0.1`, `max_depth=6`, `n_estimators=100`\n",
    "- **Class Balancing:** Applied `scale_pos_weight ≈ 7.2`\n",
    "- **ROC AUC (after balancing):** **0.86**\n",
    "- **Recall for class 1:** Improved (check classification_report output)\n",
    "- **ROC Curve:** Plotted and visually confirms good separation\n",
    "\n",
    "---\n",
    "\n",
    "### Key Insight:\n",
    "- XGBoost + `scale_pos_weight` is currently the most promising model\n",
    "- High AUC means good ranking of class probabilities even with imbalance\n"
   ]
  },
  {
   "cell_type": "code",
   "execution_count": null,
   "id": "b568ccce-7091-46d0-97c6-0632c1479f1e",
   "metadata": {},
   "outputs": [],
   "source": []
  }
 ],
 "metadata": {
  "kernelspec": {
   "display_name": "Python 3 (ipykernel)",
   "language": "python",
   "name": "python3"
  },
  "language_info": {
   "codemirror_mode": {
    "name": "ipython",
    "version": 3
   },
   "file_extension": ".py",
   "mimetype": "text/x-python",
   "name": "python",
   "nbconvert_exporter": "python",
   "pygments_lexer": "ipython3",
   "version": "3.13.0"
  }
 },
 "nbformat": 4,
 "nbformat_minor": 5
}
